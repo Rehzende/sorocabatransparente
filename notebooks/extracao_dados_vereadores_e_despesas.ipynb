{
 "cells": [
  {
   "attachments": {},
   "cell_type": "markdown",
   "metadata": {},
   "source": [
    "## Extração dos ID's e URL das fotos dos Vereadores"
   ]
  },
  {
   "cell_type": "code",
   "execution_count": null,
   "metadata": {
    "vscode": {
     "languageId": "plaintext"
    }
   },
   "outputs": [],
   "source": [
    "import requests\n",
    "from bs4 import BeautifulSoup\n",
    "import re\n",
    "import json\n",
    "\n",
    "url = 'http://www.camarasorocaba.sp.gov.br/vereadores.html'\n",
    "\n",
    "response = requests.get(url)\n",
    "\n",
    "soup = BeautifulSoup(response.text, 'html.parser')\n",
    "\n",
    "vereadores = []\n",
    "\n",
    "for vereador in soup.find_all('div', class_='col-sm-9'):\n",
    "    nome = vereador.h3.text\n",
    "    vereador_id = re.search(r'\\d+', vereador.find('a')['href']).group()\n",
    "    imagem_url = f\"http://syslegis.camarasorocaba.sp.gov.br:8383/syslegis/vereador/getConteudo/{vereador_id}\"\n",
    "    \n",
    "    vereador_dict = {\n",
    "        \"nome\": nome,\n",
    "        \"id\": vereador_id,\n",
    "        \"imagem_url\": imagem_url\n",
    "    }\n",
    "    vereadores.append(vereador_dict)\n",
    "\n",
    "with open('vereadores.json', 'w', encoding='utf-8') as f:\n",
    "    json.dump(vereadores, f, ensure_ascii=False, indent=4)\n"
   ]
  },
  {
   "attachments": {},
   "cell_type": "markdown",
   "metadata": {},
   "source": [
    "## Extração dos ID's do Ano de cada pagina de relatorio. "
   ]
  },
  {
   "cell_type": "code",
   "execution_count": null,
   "metadata": {
    "vscode": {
     "languageId": "plaintext"
    }
   },
   "outputs": [],
   "source": [
    "import json, requests\n",
    "from bs4 import BeautifulSoup\n",
    "\n",
    "url = 'http://www.camarasorocaba.sp.gov.br/arquivos_publicos.html?id=5e3f0dc905d7040f28b44e0e'\n",
    "response = requests.get(url)\n",
    "\n",
    "# Criar um objeto BeautifulSoup para analisar a HTML\n",
    "soup = BeautifulSoup(response.text, 'html.parser')\n",
    "\n",
    "links = []\n",
    "\n",
    "table = soup.find('table', {'class': 'table table-striped'})\n",
    "for link in table.find_all('a'):\n",
    "    url_id = link.get('href')\n",
    "    year = link.contents[2].strip()\n",
    "    links.append({'url_id': url_id, 'year': year, 'processed': False})\n",
    "\n",
    "with open('links.json', 'w') as f:\n",
    "    json.dump(links, f)\n"
   ]
  }
 ],
 "metadata": {
  "language_info": {
   "name": "python"
  },
  "orig_nbformat": 4
 },
 "nbformat": 4,
 "nbformat_minor": 2
}
