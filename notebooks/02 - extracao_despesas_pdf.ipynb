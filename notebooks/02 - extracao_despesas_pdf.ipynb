{
  "cells": [
    {
      "cell_type": "markdown",
      "metadata": {
        "colab_type": "text",
        "id": "view-in-github"
      },
      "source": [
        "<a href=\"https://colab.research.google.com/github/Rehzende/sorocabatransparente/blob/main/notebooks/extracao.ipynb\" target=\"_parent\"><img src=\"https://colab.research.google.com/assets/colab-badge.svg\" alt=\"Open In Colab\"/></a>"
      ]
    },
    {
      "cell_type": "code",
      "execution_count": null,
      "metadata": {
        "colab": {
          "base_uri": "https://localhost:8080/"
        },
        "id": "XBBPJHmVajig",
        "outputId": "9bf8f57e-8dce-4e87-b048-3428d20d9c4b"
      },
      "outputs": [],
      "source": [
        "%pip install \"camelot-py[cv]\"\n",
        "%pip install camelot-py[base]\n",
        "%pip install \"PyPDF2<3.0\"\n",
        "%pip install pillow\n",
        "%pip install unidecode\n",
        "%pip install html5lib\n",
        "%apt install ghostscript python3-tk - y\n"
      ]
    },
    {
      "cell_type": "code",
      "execution_count": null,
      "metadata": {
        "id": "N-hpie03gXcX"
      },
      "outputs": [],
      "source": [
        "import camelot\n",
        "import json\n",
        "import os\n",
        "import requests\n",
        "from pathlib import Path\n",
        "from bs4 import BeautifulSoup\n",
        "from unidecode import unidecode\n",
        "import urllib.request\n",
        "from operator import index\n",
        "import pandas as pd\n",
        "import numpy as np\n",
        "import matplotlib.pyplot as plt\n",
        "from unicodedata import normalize\n"
      ]
    },
    {
      "cell_type": "code",
      "execution_count": null,
      "metadata": {
        "id": "cx0sj7cVghhC"
      },
      "outputs": [],
      "source": [
        "LINKS_FILE_PATH = '../dados/relatorios/links.json'\n",
        "\n",
        "\n",
        "def process_monthly_reports(year_data):\n",
        "    print(year_data[\"extracted\"])\n",
        "    if not year_data[\"extracted\"]:\n",
        "        for m in year_data['months']:\n",
        "            try:\n",
        "                year_extracted = True\n",
        "                if m[\"extracted\"] == False:\n",
        "                    url = m[\"url_id\"]\n",
        "                    year = unidecode(year_data['year'].lower())\n",
        "                    month = unidecode(m['month'])\n",
        "                    path_name = f\"../dados/relatorios/pdf/{year}/{month}/\"\n",
        "                    if not os.path.exists(path_name):\n",
        "                        os.makedirs(path_name)\n",
        "                    file_name = f\"{path_name}{month}\"\n",
        "                    _, headers = urllib.request.urlretrieve(url, file_name)\n",
        "                    content_type = headers['Content-Type']\n",
        "                    if content_type.split(\";\")[0].split(\"/\")[1] == \"pdf\":\n",
        "                        file_extension = \"pdf\"\n",
        "                        os.rename(f'{file_name}', f'{file_name}.{file_extension}')\n",
        "                    if content_type.split(\";\")[0].split(\"/\")[1] == \"html\":\n",
        "                        file_extension = \"html\"\n",
        "                        os.rename(f'{file_name}', f'{file_name}.{file_extension}')\n",
        "                    if not os.path.exists(f\"../dados/relatorios/json/{year}/{month}/\"):\n",
        "                        os.makedirs(f\"../dados/relatorios/json/{year}/{month}/\")\n",
        "                    report_json_name = f\"../dados/relatorios/json/{year}/{month}/{month}.json\"\n",
        "                    extracted = extrac_pdf_data(file_name, report_json_name, file_extension)\n",
        "                    m['extracted'] = extracted\n",
        "                    m['report_path'] = report_json_name\n",
        "                    m['file_extension'] = file_extension\n",
        "\n",
        "                    print(\n",
        "                        f\"O PDF/HTML do Ano {year} e do mês {month} foi processado com sucesso.\")\n",
        "                \n",
        "            except Exception as e:\n",
        "                error = {\n",
        "                    \"message\": f\"Erro ao processar arquivo PDF/HTML: \",\n",
        "                    \"error\":   f\"{str(e)}\"\n",
        "                }\n",
        "                print(error)\n",
        "                year_extracted = False\n",
        "        year_data['extracted'] =  year_extracted\n",
        "        print(\n",
        "            f\"Os Pdf's do Ano {year_data['year'] } foram processado com sucesso.\")\n",
        "\n",
        "\n",
        "def extrac_pdf_data(file_path, report_json_name, file_extension):\n",
        "    try:\n",
        "        if file_extension == \"pdf\":\n",
        "            tables = camelot.read_pdf(f'{file_path}.{file_extension}', encoding='utf-8')\n",
        "            df = tables[0].df\n",
        "            temp_df = df.iloc[2:]\n",
        "        if file_extension == \"html\":\n",
        "            table_MN = pd.read_html(f'{file_path}.{file_extension}')\n",
        "            df = table_MN[0]\n",
        "            df.style.set_properties(**{'text-align': 'left'})\n",
        "            temp_df = df.iloc[7:]\n",
        "\n",
        "        temp_df.rename(columns=temp_df.iloc[0]).drop(temp_df.index[0])\n",
        "        temp_df = temp_df.replace(r'\\n', ' ', regex=True)\n",
        "        temp_df = temp_df.replace(r'^s*$', float('0'), regex=True)\n",
        "        temp_df = temp_df[:-2]\n",
        "        if (len(df.columns)) == 6:\n",
        "            temp_df.columns = ['Vereador', 'Aluguel Impressora',\n",
        "                                'Material Escritório', 'Postagem', 'Combustivel', 'Total']\n",
        "        else:\n",
        "            temp_df.columns = ['Vereador', 'Aluguel Impressora',\n",
        "                            'Material Escritório', 'Postagem', 'Combustivel', 'Total', 'Reembolso']\n",
        "        temp_df.reset_index(drop=True, inplace=True)\n",
        "        temp_df.to_json(report_json_name, orient='index')\n",
        "        extracted = True\n",
        "        return  extracted\n",
        "    except Exception as e:\n",
        "        error = {\n",
        "            \"message\": f\"Erro ao ler arquivo PDF/HTML: \",\n",
        "            \"error\":   f\"{str(e)}\"\n",
        "        }\n",
        "        print(error)\n",
        "        extracted = False\n",
        "        return  extracted\n",
        "\n",
        "\n",
        "try:\n",
        "    links_file_path = Path(LINKS_FILE_PATH)\n",
        "    with links_file_path.open(\"r\", encoding=\"utf8\") as f:\n",
        "        dados = json.load(f)\n",
        "except Exception as e:\n",
        "    print(f\"Erro ao ler arquivo JSON: {str(e)}\")\n",
        "    dados = []\n",
        "\n",
        "for year_data in dados:\n",
        "\n",
        "    process_monthly_reports(year_data)\n",
        "\n",
        "    with links_file_path.open(\"w\", encoding=\"utf8\") as f:\n",
        "        json.dump(dados, f, ensure_ascii=False, indent=4)\n"
      ]
    },
    {
      "cell_type": "code",
      "execution_count": null,
      "metadata": {
        "id": "pLGXelsfkiPt"
      },
      "outputs": [],
      "source": [
        "from PIL import Image, ImageDraw, ImageFont\n",
        "\n",
        "\n",
        "def put_expenses_values(template, aluguel_impressora, combustivel, mat_escritorio, postagem, reembolso, total):\n",
        "    fonte = ImageFont.truetype(\"arial.ttf\", 80)\n",
        "    draw = ImageDraw.Draw(template)\n",
        "    draw.text((1100, 1060),\n",
        "              f\" R$ {aluguel_impressora}\", font=fonte, fill=\"#fff\")\n",
        "    draw.text((1100, 1260), f\" R$ {combustivel}\", font=fonte, fill=\"#fff\")\n",
        "    draw.text((1100, 1460), f\" R$ {mat_escritorio}\", font=fonte, fill=\"#fff\")\n",
        "    draw.text((1100, 1660), f\" R$ {postagem}\", font=fonte, fill=\"#fff\")\n",
        "    draw.text((1100, 1860), f\" R$ {reembolso}\", font=fonte, fill=\"#fff\")\n",
        "    draw.text((1100, 2060), f\" R$ {total}\", font=fonte, fill=\"#000\")\n",
        "    return template\n",
        "\n",
        "\n",
        "def put_photo_vereador(img, image_name):\n",
        "    photo = Image.open(image_name)\n",
        "    photo = photo.resize((947, 1433), Image.LANCZOS)\n",
        "    posicao_photo = (1800, 800)\n",
        "    img.paste(photo, posicao_photo)\n",
        "    return img\n",
        "\n",
        "\n",
        "def main(nome_vereador, image_name, aluguel_impressora, combustivel, mat_escritorio, postagem, reembolso, total):\n",
        "    fonte_nome = ImageFont.truetype(\"arial.ttf\", 80)\n",
        "    img = Image.open(\"despesas_template.jpg\")\n",
        "    img = put_photo_vereador(img, image_name)\n",
        "    draw = ImageDraw.Draw(img)\n",
        "    draw.text((140, 800), nome_vereador, font=fonte_nome, fill=\"#fff\")\n",
        "    draw.text((420, 530), \"Janeiro/2022\",\n",
        "              font=ImageFont.truetype(\"montserrat.ttf\", 120), fill=\"#fff\")\n",
        "    img = put_expenses_values(\n",
        "        img, aluguel_impressora, combustivel, mat_escritorio, postagem, reembolso, total)\n",
        "\n",
        "    file_name = nome_vereador.lower().replace(\" \", \"_\")\n",
        "    img.save(f\"../dados/processados/{file_name}.jpg\")\n"
      ]
    },
    {
      "attachments": {},
      "cell_type": "markdown",
      "metadata": {},
      "source": [
        "## Download das imagens dos vereadores"
      ]
    },
    {
      "cell_type": "code",
      "execution_count": null,
      "metadata": {},
      "outputs": [],
      "source": [
        "\n",
        "# from unidecode import unidecode\n",
        "\n",
        "# with open(\"../dados/vereadores/vereadores.json\", \"r\", encoding=\"utf8\") as f:\n",
        "#     dados_vereadores = json.load(f)\n",
        "\n",
        "# for vereador in dados_vereadores:\n",
        "#     url = vereador[\"imagem_url\"]\n",
        "#     imagem_vereador = unidecode(vereador['nome'].lower().replace(\" \", \"_\"))\n",
        "#     # nome do arquivo a ser salvo\n",
        "#     nome_arquivo = f\"../dados/vereadores/imagens/{imagem_vereador}.jpg\"\n",
        "#     urllib.request.urlretrieve(url, nome_arquivo)\n",
        "# import urllib.request"
      ]
    },
    {
      "cell_type": "code",
      "execution_count": null,
      "metadata": {
        "id": "aMsi837lj-mP"
      },
      "outputs": [],
      "source": [
        "from unidecode import unidecode\n",
        "\n",
        "with open(\"../dados/vereadores/vereadores.json\", \"r\", encoding=\"utf8\") as f:\n",
        "    dados_vereadores = json.load(f)\n",
        "\n",
        "with open('file.json', encoding=\"utf8\") as f:\n",
        "    vereadores = json.load(f)\n",
        "\n",
        "for chave, valores in vereadores.items():\n",
        "    imagem_vereador = unidecode(valores['Vereador'].lower().replace(\" \", \"_\"))\n",
        "    main(valores[\"Vereador\"], f\"../dados/vereadores/imagens/{imagem_vereador}.jpg\", valores[\"Aluguel Impressora\"],\n",
        "         valores[\"Material Escrit\\u00f3rio\"], valores[\"Postagem\"], valores[\"Combustivel\"], valores[\"Reembolso\"], valores[\"Total\"])\n"
      ]
    },
    {
      "cell_type": "code",
      "execution_count": null,
      "metadata": {},
      "outputs": [],
      "source": [
        "%pip install tabula-py\n",
        "import tabula\n",
        "df = tabula.read_pdf(\"http://www.camarasorocaba.sp.gov.br:8082/publicFiles/file/63dd5e8cee6582a5bd1416a9\", pages='all')"
      ]
    }
  ],
  "metadata": {
    "colab": {
      "authorship_tag": "ABX9TyOYr+gHZWbjGH0k+UMEaVWx",
      "include_colab_link": true,
      "provenance": []
    },
    "kernelspec": {
      "display_name": "Python 3",
      "language": "python",
      "name": "python3"
    },
    "language_info": {
      "codemirror_mode": {
        "name": "ipython",
        "version": 3
      },
      "file_extension": ".py",
      "mimetype": "text/x-python",
      "name": "python",
      "nbconvert_exporter": "python",
      "pygments_lexer": "ipython3",
      "version": "3.10.10"
    },
    "vscode": {
      "interpreter": {
        "hash": "529c01e9efe069a284a26305eff3e7078e927e533599f75a22b18090b4e45e62"
      }
    }
  },
  "nbformat": 4,
  "nbformat_minor": 0
}
