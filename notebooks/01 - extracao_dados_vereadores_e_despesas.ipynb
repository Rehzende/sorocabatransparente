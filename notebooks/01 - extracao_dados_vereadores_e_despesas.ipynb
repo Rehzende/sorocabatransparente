{
 "cells": [
  {
   "attachments": {},
   "cell_type": "markdown",
   "metadata": {
    "tags": [
     "local"
    ]
   },
   "source": [
    "## Extração dos ID's e URL das fotos dos Vereadores"
   ]
  },
  {
   "cell_type": "code",
   "execution_count": null,
   "metadata": {},
   "outputs": [],
   "source": [
    "%pip install requests bs4"
   ]
  },
  {
   "cell_type": "code",
   "execution_count": null,
   "metadata": {},
   "outputs": [],
   "source": [
    "import requests\n",
    "from bs4 import BeautifulSoup\n",
    "import re\n",
    "import json\n",
    "from unidecode import unidecode\n",
    "\n",
    "\n",
    "vereadores = []\n",
    "\n",
    "for vereador_id in range(1, 200):\n",
    "    url = f'http://www.camarasorocaba.sp.gov.br/vereador.html?id={vereador_id}'\n",
    "    response = requests.get(url)\n",
    "    soup = BeautifulSoup(response.content, 'html.parser')\n",
    "    try:\n",
    "        nome_vereador = soup.find('div', {'class': 'page-header'}).find('h1').text\n",
    "        print(f'Vereador {vereador_id}: {nome_vereador}')\n",
    "        vereador_dict = {\n",
    "            \"nome\": nome_vereador,\n",
    "            \"id\": vereador_id,\n",
    "            \"imagem_url\": f\"http://syslegis.camarasorocaba.sp.gov.br:8383/syslegis/vereador/getConteudo/{vereador_id}\"\n",
    "        }\n",
    "        vereadores.append(vereador_dict)\n",
    "    except AttributeError:\n",
    "        print(f'Erro ao obter o nome do vereador {vereador_id}')\n",
    "\n",
    "with open('../dados/vereadores/vereadores.json', 'w', encoding='utf-8') as f:\n",
    "    json.dump(vereadores, f, ensure_ascii=False, indent=4)"
   ]
  },
  {
   "attachments": {},
   "cell_type": "markdown",
   "metadata": {},
   "source": [
    "## Extração dos ID's do Ano de cada pagina de relatorio. "
   ]
  },
  {
   "cell_type": "code",
   "execution_count": null,
   "metadata": {},
   "outputs": [],
   "source": [
    "import json, requests\n",
    "from bs4 import BeautifulSoup\n",
    "from pathlib import Path\n",
    "\n",
    "\n",
    "LINKS_FILE_PATH = '../dados/relatorios/links.json'\n",
    "\n",
    "def extract_year_data(existing_data):\n",
    "    print('Carregando dados')\n",
    "    url = 'http://www.camarasorocaba.sp.gov.br/arquivos_publicos.html?id=5e3f0dc905d7040f28b44e0e'\n",
    "    response = requests.get(url)\n",
    "    soup = BeautifulSoup(response.text, 'html.parser')\n",
    "\n",
    "    table = soup.find('table', {'class': 'table table-striped'})\n",
    "    for year in table.find_all('a'):\n",
    "        year_str = year.contents[2].strip()\n",
    "\n",
    "        # Verificar se já existe um dicionário para este ano\n",
    "        year_exists = False\n",
    "        if existing_data:\n",
    "            for data in existing_data:\n",
    "                if data['year'] == year_str:\n",
    "                    year_exists = True\n",
    "                    break\n",
    "\n",
    "        if not year_exists:\n",
    "            existing_data.append({'url_id': year.get('href'), 'year': year_str, 'processed': False, 'extracted': False, 'months': []})\n",
    "        else:\n",
    "            print(f\"Já existe um dicionário para o ano {year_str}. Ignorando.\")\n",
    "\n",
    "\n",
    "try:\n",
    "    links_file_path = Path(LINKS_FILE_PATH)\n",
    "    with links_file_path.open(\"r+\", encoding=\"utf8\") as f:\n",
    "        data = json.load(f)\n",
    "\n",
    "    print('extraindo')\n",
    "    extract_year_data(data)\n",
    "\n",
    "    with links_file_path.open(\"w\", encoding=\"utf8\") as f:\n",
    "        json.dump(data, f, ensure_ascii=False, indent=4)\n",
    "except Exception as e:\n",
    "    print(f\"Erro ao ler arquivo JSON: {str(e)}\")\n",
    "    data = []"
   ]
  },
  {
   "attachments": {},
   "cell_type": "markdown",
   "metadata": {},
   "source": [
    "## Extração dos ID's do relatório de cada mês do ano."
   ]
  },
  {
   "cell_type": "code",
   "execution_count": null,
   "metadata": {},
   "outputs": [],
   "source": [
    "import json\n",
    "from pathlib import Path\n",
    "import requests\n",
    "from bs4 import BeautifulSoup\n",
    "\n",
    "BASE_URL = 'http://www.camarasorocaba.sp.gov.br/arquivos_publicos.html'\n",
    "LINKS_FILE_PATH = '../dados/relatorios/links.json'\n",
    "\n",
    "def scrape_monthly_reports(year_data, base_url):\n",
    "    if year_data[\"extracted\"] == False:\n",
    "        response = requests.get(f\"{base_url}{year_data['url_id']}\")\n",
    "        soup = BeautifulSoup(response.text, 'html.parser')\n",
    "        table = soup.find('table', {'class': 'table table-striped'})\n",
    "        for link in table.find_all('a'):\n",
    "            url_id = link.get('href')\n",
    "            month = link.contents[2].strip()\n",
    "            exists_month = False\n",
    "            for m in year_data['months']:\n",
    "                if m[\"month\"] == month:\n",
    "                    exists_month = True\n",
    "                    break\n",
    "\n",
    "            if not exists_month:\n",
    "\n",
    "                new_month = {\n",
    "                    \"url_id\":  url_id,\n",
    "                    \"month\": month,\n",
    "                    \"processed\": False,\n",
    "                    \"extracted\": False,\n",
    "                    \"report_path\": \"\",\n",
    "                    \"file_extension\": \"\"\n",
    "                }\n",
    "                year_data['months'].append(new_month)\n",
    "\n",
    "try:\n",
    "    links_file_path = Path(LINKS_FILE_PATH)\n",
    "    with links_file_path.open(\"r+\", encoding=\"utf8\") as f:\n",
    "        dados = json.load(f)\n",
    "except Exception as e:\n",
    "    print(f\"Erro ao ler arquivo JSON: {str(e)}\")\n",
    "    dados = []\n",
    "\n",
    "for year_data in dados:\n",
    "\n",
    "    scrape_monthly_reports(year_data, BASE_URL)\n",
    "\n",
    "    with links_file_path.open(\"w\", encoding=\"utf8\") as f:\n",
    "        json.dump(dados, f, ensure_ascii=False, indent=4)\n"
   ]
  }
 ],
 "metadata": {
  "kernelspec": {
   "display_name": "Python 3",
   "language": "python",
   "name": "python3"
  },
  "language_info": {
   "codemirror_mode": {
    "name": "ipython",
    "version": 3
   },
   "file_extension": ".py",
   "mimetype": "text/x-python",
   "name": "python",
   "nbconvert_exporter": "python",
   "pygments_lexer": "ipython3",
   "version": "3.10.10"
  },
  "orig_nbformat": 4,
  "vscode": {
   "interpreter": {
    "hash": "529c01e9efe069a284a26305eff3e7078e927e533599f75a22b18090b4e45e62"
   }
  }
 },
 "nbformat": 4,
 "nbformat_minor": 2
}
