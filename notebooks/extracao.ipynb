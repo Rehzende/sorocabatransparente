{
  "cells": [
    {
      "cell_type": "markdown",
      "metadata": {
        "colab_type": "text",
        "id": "view-in-github"
      },
      "source": [
        "<a href=\"https://colab.research.google.com/github/Rehzende/sorocabatransparente/blob/main/notebooks/extracao.ipynb\" target=\"_parent\"><img src=\"https://colab.research.google.com/assets/colab-badge.svg\" alt=\"Open In Colab\"/></a>"
      ]
    },
    {
      "cell_type": "code",
      "execution_count": 3,
      "metadata": {
        "colab": {
          "base_uri": "https://localhost:8080/"
        },
        "id": "XBBPJHmVajig",
        "outputId": "9bf8f57e-8dce-4e87-b048-3428d20d9c4b"
      },
      "outputs": [
        {
          "name": "stdout",
          "output_type": "stream",
          "text": [
            "Looking in indexes: https://pypi.org/simple, https://us-python.pkg.dev/colab-wheels/public/simple/\n",
            "Requirement already satisfied: camelot-py[cv] in /usr/local/lib/python3.8/dist-packages (0.10.1)\n",
            "Requirement already satisfied: openpyxl>=2.5.8 in /usr/local/lib/python3.8/dist-packages (from camelot-py[cv]) (3.0.10)\n",
            "Requirement already satisfied: click>=6.7 in /usr/local/lib/python3.8/dist-packages (from camelot-py[cv]) (7.1.2)\n",
            "Requirement already satisfied: numpy>=1.13.3 in /usr/local/lib/python3.8/dist-packages (from camelot-py[cv]) (1.21.6)\n",
            "Requirement already satisfied: tabulate>=0.8.9 in /usr/local/lib/python3.8/dist-packages (from camelot-py[cv]) (0.8.10)\n",
            "Requirement already satisfied: pdfminer.six>=20200726 in /usr/local/lib/python3.8/dist-packages (from camelot-py[cv]) (20221105)\n",
            "Requirement already satisfied: PyPDF2>=1.26.0 in /usr/local/lib/python3.8/dist-packages (from camelot-py[cv]) (2.12.1)\n",
            "Requirement already satisfied: chardet>=3.0.4 in /usr/local/lib/python3.8/dist-packages (from camelot-py[cv]) (4.0.0)\n",
            "Requirement already satisfied: pandas>=0.23.4 in /usr/local/lib/python3.8/dist-packages (from camelot-py[cv]) (1.3.5)\n",
            "Requirement already satisfied: pdftopng>=0.2.3 in /usr/local/lib/python3.8/dist-packages (from camelot-py[cv]) (0.2.3)\n",
            "Requirement already satisfied: opencv-python>=3.4.2.17 in /usr/local/lib/python3.8/dist-packages (from camelot-py[cv]) (4.6.0.66)\n",
            "Requirement already satisfied: ghostscript>=0.7 in /usr/local/lib/python3.8/dist-packages (from camelot-py[cv]) (0.7)\n",
            "Requirement already satisfied: setuptools>=38.6.0 in /usr/local/lib/python3.8/dist-packages (from ghostscript>=0.7->camelot-py[cv]) (57.4.0)\n",
            "Requirement already satisfied: et-xmlfile in /usr/local/lib/python3.8/dist-packages (from openpyxl>=2.5.8->camelot-py[cv]) (1.1.0)\n",
            "Requirement already satisfied: pytz>=2017.3 in /usr/local/lib/python3.8/dist-packages (from pandas>=0.23.4->camelot-py[cv]) (2022.7.1)\n",
            "Requirement already satisfied: python-dateutil>=2.7.3 in /usr/local/lib/python3.8/dist-packages (from pandas>=0.23.4->camelot-py[cv]) (2.8.2)\n",
            "Requirement already satisfied: cryptography>=36.0.0 in /usr/local/lib/python3.8/dist-packages (from pdfminer.six>=20200726->camelot-py[cv]) (39.0.1)\n",
            "Requirement already satisfied: charset-normalizer>=2.0.0 in /usr/local/lib/python3.8/dist-packages (from pdfminer.six>=20200726->camelot-py[cv]) (3.0.1)\n",
            "Requirement already satisfied: typing_extensions>=3.10.0.0 in /usr/local/lib/python3.8/dist-packages (from PyPDF2>=1.26.0->camelot-py[cv]) (4.5.0)\n",
            "Requirement already satisfied: cffi>=1.12 in /usr/local/lib/python3.8/dist-packages (from cryptography>=36.0.0->pdfminer.six>=20200726->camelot-py[cv]) (1.15.1)\n",
            "Requirement already satisfied: six>=1.5 in /usr/local/lib/python3.8/dist-packages (from python-dateutil>=2.7.3->pandas>=0.23.4->camelot-py[cv]) (1.15.0)\n",
            "Requirement already satisfied: pycparser in /usr/local/lib/python3.8/dist-packages (from cffi>=1.12->cryptography>=36.0.0->pdfminer.six>=20200726->camelot-py[cv]) (2.21)\n",
            "Looking in indexes: https://pypi.org/simple, https://us-python.pkg.dev/colab-wheels/public/simple/\n",
            "Requirement already satisfied: camelot-py[base] in /usr/local/lib/python3.8/dist-packages (0.10.1)\n",
            "Requirement already satisfied: numpy>=1.13.3 in /usr/local/lib/python3.8/dist-packages (from camelot-py[base]) (1.21.6)\n",
            "Requirement already satisfied: openpyxl>=2.5.8 in /usr/local/lib/python3.8/dist-packages (from camelot-py[base]) (3.0.10)\n",
            "Requirement already satisfied: pdfminer.six>=20200726 in /usr/local/lib/python3.8/dist-packages (from camelot-py[base]) (20221105)\n",
            "Requirement already satisfied: pandas>=0.23.4 in /usr/local/lib/python3.8/dist-packages (from camelot-py[base]) (1.3.5)\n",
            "Requirement already satisfied: click>=6.7 in /usr/local/lib/python3.8/dist-packages (from camelot-py[base]) (7.1.2)\n",
            "Requirement already satisfied: PyPDF2>=1.26.0 in /usr/local/lib/python3.8/dist-packages (from camelot-py[base]) (2.12.1)\n",
            "Requirement already satisfied: tabulate>=0.8.9 in /usr/local/lib/python3.8/dist-packages (from camelot-py[base]) (0.8.10)\n",
            "Requirement already satisfied: chardet>=3.0.4 in /usr/local/lib/python3.8/dist-packages (from camelot-py[base]) (4.0.0)\n",
            "Requirement already satisfied: opencv-python>=3.4.2.17 in /usr/local/lib/python3.8/dist-packages (from camelot-py[base]) (4.6.0.66)\n",
            "Requirement already satisfied: pdftopng>=0.2.3 in /usr/local/lib/python3.8/dist-packages (from camelot-py[base]) (0.2.3)\n",
            "Requirement already satisfied: ghostscript>=0.7 in /usr/local/lib/python3.8/dist-packages (from camelot-py[base]) (0.7)\n",
            "Requirement already satisfied: setuptools>=38.6.0 in /usr/local/lib/python3.8/dist-packages (from ghostscript>=0.7->camelot-py[base]) (57.4.0)\n",
            "Requirement already satisfied: et-xmlfile in /usr/local/lib/python3.8/dist-packages (from openpyxl>=2.5.8->camelot-py[base]) (1.1.0)\n",
            "Requirement already satisfied: pytz>=2017.3 in /usr/local/lib/python3.8/dist-packages (from pandas>=0.23.4->camelot-py[base]) (2022.7.1)\n",
            "Requirement already satisfied: python-dateutil>=2.7.3 in /usr/local/lib/python3.8/dist-packages (from pandas>=0.23.4->camelot-py[base]) (2.8.2)\n",
            "Requirement already satisfied: charset-normalizer>=2.0.0 in /usr/local/lib/python3.8/dist-packages (from pdfminer.six>=20200726->camelot-py[base]) (3.0.1)\n",
            "Requirement already satisfied: cryptography>=36.0.0 in /usr/local/lib/python3.8/dist-packages (from pdfminer.six>=20200726->camelot-py[base]) (39.0.1)\n",
            "Requirement already satisfied: typing_extensions>=3.10.0.0 in /usr/local/lib/python3.8/dist-packages (from PyPDF2>=1.26.0->camelot-py[base]) (4.5.0)\n",
            "Requirement already satisfied: cffi>=1.12 in /usr/local/lib/python3.8/dist-packages (from cryptography>=36.0.0->pdfminer.six>=20200726->camelot-py[base]) (1.15.1)\n",
            "Requirement already satisfied: six>=1.5 in /usr/local/lib/python3.8/dist-packages (from python-dateutil>=2.7.3->pandas>=0.23.4->camelot-py[base]) (1.15.0)\n",
            "Requirement already satisfied: pycparser in /usr/local/lib/python3.8/dist-packages (from cffi>=1.12->cryptography>=36.0.0->pdfminer.six>=20200726->camelot-py[base]) (2.21)\n",
            "Looking in indexes: https://pypi.org/simple, https://us-python.pkg.dev/colab-wheels/public/simple/\n",
            "Requirement already satisfied: PyPDF2<3.0 in /usr/local/lib/python3.8/dist-packages (2.12.1)\n",
            "Requirement already satisfied: typing_extensions>=3.10.0.0 in /usr/local/lib/python3.8/dist-packages (from PyPDF2<3.0) (4.5.0)\n",
            "Reading package lists... Done\n",
            "Building dependency tree       \n",
            "Reading state information... Done\n",
            "ghostscript is already the newest version (9.50~dfsg-5ubuntu4.6).\n",
            "python3-tk is already the newest version (3.8.10-0ubuntu1~20.04).\n",
            "The following package was automatically installed and is no longer required:\n",
            "  libnvidia-common-510\n",
            "Use 'apt autoremove' to remove it.\n",
            "0 upgraded, 0 newly installed, 0 to remove and 21 not upgraded.\n"
          ]
        }
      ],
      "source": [
        "!pip install \"camelot-py[cv]\" \n",
        "!pip install camelot-py[base]\n",
        "!pip install \"PyPDF2<3.0\"\n",
        "!apt install ghostscript python3-tk"
      ]
    },
    {
      "cell_type": "code",
      "execution_count": 4,
      "metadata": {
        "id": "N-hpie03gXcX"
      },
      "outputs": [],
      "source": [
        "import camelot"
      ]
    },
    {
      "cell_type": "code",
      "execution_count": null,
      "metadata": {},
      "outputs": [],
      "source": []
    },
    {
      "cell_type": "code",
      "execution_count": 5,
      "metadata": {
        "id": "cx0sj7cVghhC"
      },
      "outputs": [],
      "source": [
        "tables = camelot.read_pdf('relatorio.pdf', encoding='utf-8')"
      ]
    },
    {
      "cell_type": "code",
      "execution_count": 7,
      "metadata": {
        "id": "jY6tGTZpp-Lw"
      },
      "outputs": [],
      "source": [
        "from operator import index\n",
        "df = tables[0].df \n",
        "temp_df = df.iloc[2:]\n",
        "temp_df.rename(columns=temp_df.iloc[0]).drop(temp_df.index[0])\n",
        "temp_df = temp_df.replace(r'\\n',' ', regex=True) \n",
        "temp_df = temp_df.replace(r'^s*$', float('0'), regex = True)\n",
        "temp_df = temp_df[:-2]\n",
        "temp_df.columns = ['Vereador', 'Aluguel Impressora','Material Escritório','Postagem' ,'Combustivel', 'Total', 'Reembolso']\n",
        "\n"
      ]
    },
    {
      "cell_type": "code",
      "execution_count": 8,
      "metadata": {
        "id": "7bryhlHaCPbJ"
      },
      "outputs": [],
      "source": [
        "temp_df.reset_index(drop=True, inplace=True)\n",
        "temp_df\n",
        "temp_df.to_json('file.json', orient='index')"
      ]
    },
    {
      "cell_type": "code",
      "execution_count": 15,
      "metadata": {
        "id": "pLGXelsfkiPt"
      },
      "outputs": [],
      "source": [
        "from PIL import Image, ImageDraw, ImageFont\n",
        "\n",
        "def put_expenses_values(template, aluguel_impressora, combustivel, mat_escritorio, postagem, reembolso, total):\n",
        "     fonte = ImageFont.truetype(\"arial.ttf\", 80)\n",
        "     draw = ImageDraw.Draw(template)\n",
        "     draw.text((1100, 1060), f\" R$ {aluguel_impressora}\", font=fonte, fill=\"#fff\")\n",
        "     draw.text((1100, 1260), f\" R$ {combustivel}\", font=fonte, fill=\"#fff\")\n",
        "     draw.text((1100, 1460), f\" R$ {mat_escritorio}\", font=fonte, fill=\"#fff\")\n",
        "     draw.text((1100, 1660), f\" R$ {postagem}\", font=fonte, fill=\"#fff\")\n",
        "     draw.text((1100, 1860), f\" R$ {reembolso}\", font=fonte, fill=\"#fff\")\n",
        "     draw.text((1100, 2060), f\" R$ {total}\", font=fonte, fill=\"#000\")\n",
        "     return template\n",
        "\n",
        "def put_photo_vereador(img, image_name):\n",
        "    photo = Image.open(image_name)\n",
        "    photo = photo.resize((947, 1433), Image.ANTIALIAS)\n",
        "    posicao_photo = (1800, 800)\n",
        "    img.paste(photo, posicao_photo)\n",
        "    return img\n",
        "\n",
        "def main(nome_vereador, image_name, aluguel_impressora, combustivel, mat_escritorio, postagem, reembolso, total):\n",
        "    fonte_nome = ImageFont.truetype(\"arial.ttf\", 80)\n",
        "    img = Image.open(\"despesas_template.jpg\")\n",
        "    img = put_photo_vereador(img, image_name)\n",
        "    draw = ImageDraw.Draw(img)\n",
        "    draw.text((140, 800), nome_vereador, font=fonte_nome, fill=\"#fff\")   \n",
        "    img = put_expenses_values(img, aluguel_impressora, combustivel, mat_escritorio, postagem, reembolso, total)\n",
        "    \n",
        "    file_name = nome_vereador.lower().replace(\" \", \"_\")\n",
        "    img.save(f\"{file_name}.jpg\")\n"
      ]
    },
    {
      "cell_type": "code",
      "execution_count": 14,
      "metadata": {
        "id": "aMsi837lj-mP"
      },
      "outputs": [],
      "source": [
        "import json\n",
        "\n",
        "\n",
        "with open('file.json') as f:\n",
        "    vereadores = json.load(f)\n",
        "\n",
        "for chave, valores in vereadores.items():\n",
        "    main(valores[\"Vereador\"], \"silvano.jpg\", valores[\"Aluguel Impressora\"], valores[\"Material Escrit\\u00f3rio\"], valores[\"Postagem\"], valores[\"Combustivel\"], valores[\"Reembolso\"], valores[\"Total\"])\n",
        "\n",
        "\n"
      ]
    }
  ],
  "metadata": {
    "colab": {
      "authorship_tag": "ABX9TyOYr+gHZWbjGH0k+UMEaVWx",
      "include_colab_link": true,
      "provenance": []
    },
    "kernelspec": {
      "display_name": "Python 3",
      "name": "python3"
    },
    "language_info": {
      "name": "python"
    }
  },
  "nbformat": 4,
  "nbformat_minor": 0
}
